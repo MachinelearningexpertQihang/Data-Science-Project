{
  "nbformat": 4,
  "nbformat_minor": 0,
  "metadata": {
    "colab": {
      "provenance": []
    },
    "kernelspec": {
      "name": "python3",
      "display_name": "Python 3"
    },
    "language_info": {
      "name": "python"
    }
  },
  "cells": [
    {
      "cell_type": "code",
      "execution_count": 1,
      "metadata": {
        "colab": {
          "base_uri": "https://localhost:8080/"
        },
        "id": "X0ngnyEErWnB",
        "outputId": "8828dd77-7b99-4105-f612-919483ef0342"
      },
      "outputs": [
        {
          "output_type": "stream",
          "name": "stdout",
          "text": [
            "Kitty 遇到了 sleep，当前压力值: 0，情绪: Relaxed\n",
            "Kitty 遇到了 loud_noise，当前压力值: 20，情绪: Normal\n",
            "Kitty 遇到了 food，当前压力值: 5，情绪: Relaxed\n",
            "Kitty 遇到了 new_environment，当前压力值: 20，情绪: Normal\n",
            "Kitty 遇到了 petting，当前压力值: 10，情绪: Relaxed\n",
            "Kitty 遇到了 food，当前压力值: 0，情绪: Relaxed\n",
            "Kitty 遇到了 new_environment，当前压力值: 15，情绪: Relaxed\n",
            "Kitty 遇到了 food，当前压力值: 0，情绪: Relaxed\n",
            "Kitty 遇到了 petting，当前压力值: 0，情绪: Relaxed\n",
            "Kitty 遇到了 petting，当前压力值: 0，情绪: Relaxed\n",
            "Kitty 休息后恢复正常，当前状态：压力值 0，能量 100，情绪 Calm\n"
          ]
        }
      ],
      "source": [
        "import time\n",
        "import random\n",
        "\n",
        "class Cat:\n",
        "    def __init__(self, name):\n",
        "        self.name = name\n",
        "        self.stress_level = 0  # 初始压力值\n",
        "        self.energy = 100  # 初始能量值\n",
        "        self.mood = \"Calm\"  # 初始情绪\n",
        "        self.stimuli = {\n",
        "            \"loud_noise\": 20,\n",
        "            \"new_environment\": 15,\n",
        "            \"stranger\": 25,\n",
        "            \"petting\": -10,\n",
        "            \"food\": -15,\n",
        "            \"sleep\": -20\n",
        "        }\n",
        "\n",
        "    def react_to_stimulus(self, stimulus):\n",
        "        \"\"\" 猫对外部刺激的反应 \"\"\"\n",
        "        if stimulus in self.stimuli:\n",
        "            self.stress_level += self.stimuli[stimulus]\n",
        "            self.stress_level = max(0, min(100, self.stress_level))  # 压力值保持在 0-100\n",
        "            self.update_mood()\n",
        "            print(f\"{self.name} 遇到了 {stimulus}，当前压力值: {self.stress_level}，情绪: {self.mood}\")\n",
        "        else:\n",
        "            print(\"未知刺激\")\n",
        "\n",
        "    def update_mood(self):\n",
        "        \"\"\" 根据压力水平更新情绪 \"\"\"\n",
        "        if self.stress_level < 20:\n",
        "            self.mood = \"Relaxed\"\n",
        "        elif 20 <= self.stress_level < 50:\n",
        "            self.mood = \"Normal\"\n",
        "        elif 50 <= self.stress_level < 80:\n",
        "            self.mood = \"Anxious\"\n",
        "        else:\n",
        "            self.mood = \"Stressed\"\n",
        "\n",
        "    def simulate_day(self):\n",
        "        \"\"\" 模拟一天的时间流逝和环境变化 \"\"\"\n",
        "        events = [\"loud_noise\", \"new_environment\", \"stranger\", \"petting\", \"food\", \"sleep\"]\n",
        "        for _ in range(10):  # 10个时间片\n",
        "            event = random.choice(events)\n",
        "            self.react_to_stimulus(event)\n",
        "            time.sleep(1)  # 模拟时间流逝\n",
        "\n",
        "    def reset(self):\n",
        "        \"\"\" 让猫休息，恢复到初始状态 \"\"\"\n",
        "        self.stress_level = 0\n",
        "        self.energy = 100\n",
        "        self.mood = \"Calm\"\n",
        "        print(f\"{self.name} 休息后恢复正常，当前状态：压力值 {self.stress_level}，能量 {self.energy}，情绪 {self.mood}\")\n",
        "\n",
        "# 运行模拟\n",
        "if __name__ == \"__main__\":\n",
        "    my_cat = Cat(\"Kitty\")\n",
        "    my_cat.simulate_day()\n",
        "    my_cat.reset()\n"
      ]
    },
    {
      "cell_type": "code",
      "source": [
        "import numpy as np\n",
        "\n",
        "class BayesianCat:\n",
        "    def __init__(self, name):\n",
        "        self.name = name\n",
        "        self.stress_probs = np.array([0.5, 0.3, 0.2])  # 初始压力概率 (低, 中等, 高)\n",
        "        self.event_probs = {\n",
        "            \"loud_noise\": np.array([0.2, 0.5, 0.8]),\n",
        "            \"new_environment\": np.array([0.3, 0.4, 0.7]),\n",
        "            \"stranger\": np.array([0.1, 0.6, 0.9]),\n",
        "            \"petting\": np.array([0.8, 0.5, 0.2]),\n",
        "            \"food\": np.array([0.9, 0.7, 0.3]),\n",
        "            \"sleep\": np.array([0.95, 0.8, 0.4]),\n",
        "        }\n",
        "\n",
        "    def update_stress(self, event):\n",
        "        \"\"\" 使用贝叶斯更新猫的压力状态 \"\"\"\n",
        "        if event not in self.event_probs:\n",
        "            print(\"未知事件\")\n",
        "            return\n",
        "\n",
        "        likelihood = self.event_probs[event]\n",
        "        prior = self.stress_probs\n",
        "        posterior = (likelihood * prior) / np.sum(likelihood * prior)\n",
        "\n",
        "        self.stress_probs = posterior  # 更新压力状态\n",
        "        stress_state = [\"Relaxed\", \"Normal\", \"Stressed\"][np.argmax(self.stress_probs)]\n",
        "        print(f\"{self.name} 遇到了 {event}，当前压力分布: {self.stress_probs}, 情绪: {stress_state}\")\n",
        "\n",
        "    def simulate_day(self):\n",
        "        \"\"\" 随机模拟一天的事件并更新压力状态 \"\"\"\n",
        "        events = list(self.event_probs.keys())\n",
        "        for _ in range(10):  # 10个事件\n",
        "            event = np.random.choice(events)\n",
        "            self.update_stress(event)\n",
        "\n",
        "# 运行模拟\n",
        "if __name__ == \"__main__\":\n",
        "    my_cat = BayesianCat(\"Kitty\")\n",
        "    my_cat.simulate_day()\n"
      ],
      "metadata": {
        "colab": {
          "base_uri": "https://localhost:8080/"
        },
        "id": "23KPHGYGsNeE",
        "outputId": "7865a635-a2ee-41ae-c04a-19524c14d16f"
      },
      "execution_count": 2,
      "outputs": [
        {
          "output_type": "stream",
          "name": "stdout",
          "text": [
            "Kitty 遇到了 stranger，当前压力分布: [0.12195122 0.43902439 0.43902439], 情绪: Stressed\n",
            "Kitty 遇到了 petting，当前压力分布: [0.24096386 0.54216867 0.21686747], 情绪: Normal\n",
            "Kitty 遇到了 stranger，当前压力分布: [0.04424779 0.59734513 0.35840708], 情绪: Normal\n",
            "Kitty 遇到了 loud_noise，当前压力分布: [0.01489203 0.50260611 0.48250186], 情绪: Normal\n",
            "Kitty 遇到了 petting，当前压力分布: [0.03311944 0.69861312 0.26826744], 情绪: Normal\n",
            "Kitty 遇到了 petting，当前压力分布: [0.06169567 0.81337061 0.12493373], 情绪: Normal\n",
            "Kitty 遇到了 stranger，当前压力分布: [0.01017019 0.80447806 0.18535175], 情绪: Normal\n",
            "Kitty 遇到了 food，当前压力分布: [0.01457759 0.89686354 0.08855887], 情绪: Normal\n",
            "Kitty 遇到了 new_environment，当前压力分布: [0.0102874  0.84388864 0.14582396], 情绪: Normal\n",
            "Kitty 遇到了 stranger，当前压力分布: [0.00161092 0.7928757  0.20551338], 情绪: Normal\n"
          ]
        }
      ]
    },
    {
      "cell_type": "code",
      "source": [
        "import numpy as np\n",
        "import random\n",
        "\n",
        "class ReinforcementCat:\n",
        "    def __init__(self, name):\n",
        "        self.name = name\n",
        "        self.actions = [\"run_away\", \"hide\", \"eat\", \"sleep\"]\n",
        "        self.q_table = np.zeros((3, len(self.actions)))  # Q-table, 3个压力状态 x 4个行为\n",
        "        self.state = 1  # 初始状态是 Normal\n",
        "        self.alpha = 0.1  # 学习率\n",
        "        self.gamma = 0.9  # 折扣因子\n",
        "        self.rewards = {\n",
        "            \"run_away\": [-5, -2, 5],\n",
        "            \"hide\": [-3, -1, 4],\n",
        "            \"eat\": [10, 5, -2],\n",
        "            \"sleep\": [15, 10, -5],\n",
        "        }\n",
        "\n",
        "    def choose_action(self):\n",
        "        \"\"\" ϵ-贪心策略选择动作 \"\"\"\n",
        "        if random.uniform(0, 1) < 0.2:\n",
        "            return random.choice(self.actions)\n",
        "        return self.actions[np.argmax(self.q_table[self.state])]\n",
        "\n",
        "    def update_q_value(self, action, new_state):\n",
        "        \"\"\" Q-learning 更新公式 \"\"\"\n",
        "        reward = self.rewards[action][self.state]\n",
        "        best_future_q = np.max(self.q_table[new_state])\n",
        "        self.q_table[self.state, self.actions.index(action)] += self.alpha * (\n",
        "            reward + self.gamma * best_future_q - self.q_table[self.state, self.actions.index(action)]\n",
        "        )\n",
        "        self.state = new_state  # 更新状态\n",
        "\n",
        "    def simulate_day(self):\n",
        "        \"\"\" 猫模拟一天并学习最佳应对策略 \"\"\"\n",
        "        for _ in range(10):\n",
        "            action = self.choose_action()\n",
        "            new_state = max(0, min(2, self.state + random.choice([-1, 0, 1])))  # 随机变化状态\n",
        "            self.update_q_value(action, new_state)\n",
        "            print(f\"{self.name} 采取 {action}，状态变为 {['Relaxed', 'Normal', 'Stressed'][self.state]}\")\n",
        "\n",
        "# 运行强化学习\n",
        "if __name__ == \"__main__\":\n",
        "    my_cat = ReinforcementCat(\"Kitty\")\n",
        "    my_cat.simulate_day()\n"
      ],
      "metadata": {
        "colab": {
          "base_uri": "https://localhost:8080/"
        },
        "id": "NmaxhQMcsS5d",
        "outputId": "a10f08aa-d5f1-4a3e-d20d-214d4d6bc534"
      },
      "execution_count": 3,
      "outputs": [
        {
          "output_type": "stream",
          "name": "stdout",
          "text": [
            "Kitty 采取 eat，状态变为 Stressed\n",
            "Kitty 采取 run_away，状态变为 Normal\n",
            "Kitty 采取 sleep，状态变为 Normal\n",
            "Kitty 采取 sleep，状态变为 Stressed\n",
            "Kitty 采取 run_away，状态变为 Stressed\n",
            "Kitty 采取 run_away，状态变为 Normal\n",
            "Kitty 采取 sleep，状态变为 Relaxed\n",
            "Kitty 采取 run_away，状态变为 Relaxed\n",
            "Kitty 采取 hide，状态变为 Relaxed\n",
            "Kitty 采取 eat，状态变为 Normal\n"
          ]
        }
      ]
    }
  ]
}